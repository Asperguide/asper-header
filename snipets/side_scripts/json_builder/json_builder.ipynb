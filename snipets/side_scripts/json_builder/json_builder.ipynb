{
 "cells": [
  {
   "cell_type": "code",
   "execution_count": 17,
   "id": "1b25b50c",
   "metadata": {},
   "outputs": [],
   "source": [
    "# Import the os module\n",
    "import os"
   ]
  },
  {
   "cell_type": "code",
   "execution_count": 18,
   "id": "09d962a8",
   "metadata": {},
   "outputs": [],
   "source": [
    "# Import the json module\n",
    "import json"
   ]
  },
  {
   "cell_type": "code",
   "execution_count": 19,
   "id": "f221eba7",
   "metadata": {},
   "outputs": [],
   "source": [
    "# function to check if a filepath is valid\n",
    "def get_valid_file_path(path: str) -> str | None:\n",
    "    \"\"\"Check if the given path is a valid file. \n",
    "    Returns the absolute path if valid, None otherwise.\"\"\"\n",
    "    if os.path.isfile(path):\n",
    "        return os.path.abspath(path)\n",
    "    else:\n",
    "        return None"
   ]
  },
  {
   "cell_type": "code",
   "execution_count": 20,
   "id": "4b21f0a6",
   "metadata": {},
   "outputs": [
    {
     "name": "stdout",
     "output_type": "stream",
     "text": [
      "Type '/end' at any time to finish.\n",
      "\n",
      "✅ Node added: {'name': '001', 'japaneseName': 'きょりゅうひめ叫竜の姫', 'romaji': 'Kyoryuu no Hime', 'age': 'Over 60 million years', 'quote': '\"We are the defenders of this planet. Once upon a time, during a long battle, we turned ourselves into an immortal weapon. Except fighting, all was lost, so we went to sleep at the bottom of death, our bond was to prepare for the returning invader.\"—001 about the war with VIRM ', 'description': 'The Klaxo Sapien princess, the last of her kind, who has lived for millennia. She leads the war against humanity and the VIRM.', 'asciiArtFile': '/home/eletellier/Documents/001_github/Asperguide/asper-header/snipets/side_scripts/img_to_ascii_art/output/ditf/001.txt', 'height': '', 'weight': '', 'moreInfo': 'https://darling-in-the-franxx.fandom.com/wiki/001'}\n",
      "----\n",
      "\n",
      "✅ Node added: {'japaneseName': '', 'romaji': '', 'age': '', 'quote': '', 'description': '', 'asciiArtFile': '', 'height': '', 'weight': '', 'moreInfo': ''}\n",
      "----\n",
      "\n",
      "Final list of dicts:\n",
      "[{'name': '001', 'japaneseName': 'きょりゅうひめ叫竜の姫', 'romaji': 'Kyoryuu no Hime', 'age': 'Over 60 million years', 'quote': '\"We are the defenders of this planet. Once upon a time, during a long battle, we turned ourselves into an immortal weapon. Except fighting, all was lost, so we went to sleep at the bottom of death, our bond was to prepare for the returning invader.\"—001 about the war with VIRM ', 'description': 'The Klaxo Sapien princess, the last of her kind, who has lived for millennia. She leads the war against humanity and the VIRM.', 'asciiArtFile': '/home/eletellier/Documents/001_github/Asperguide/asper-header/snipets/side_scripts/img_to_ascii_art/output/ditf/001.txt', 'height': '', 'weight': '', 'moreInfo': 'https://darling-in-the-franxx.fandom.com/wiki/001'}, {'japaneseName': '', 'romaji': '', 'age': '', 'quote': '', 'description': '', 'asciiArtFile': '', 'height': '', 'weight': '', 'moreInfo': ''}]\n"
     ]
    }
   ],
   "source": [
    "# Keys you want to collect\n",
    "document_key: str = \"asciiArtFile\"\n",
    "keys = [\"name\", \"japaneseName\", \"romaji\",\n",
    "        \"age\", \"quote\", \"description\", document_key, \"height\", \"weight\",\"type\", \"alias\",\"moreInfo\"]\n",
    "\n",
    "# Final data structure\n",
    "data = []\n",
    "\n",
    "continue_running: bool = True\n",
    "\n",
    "print(\"Type '/end' at any time to finish.\")\n",
    "\n",
    "while continue_running:\n",
    "    node = {}\n",
    "    for key in keys:\n",
    "        if not continue_running:\n",
    "            node[key] = \"\"\n",
    "            continue\n",
    "        value = input(f\"Enter {key}: \")\n",
    "        if value.strip().lower() in (\"/end\", \"/stop\", \"/quit\", \"/abort\"):\n",
    "            continue_running=False\n",
    "            continue\n",
    "        node[key] = value\n",
    "    data.append(node)\n",
    "    print(\"\\n✅ Node added:\", node)\n",
    "    print(\"----\")\n",
    "\n",
    "print(\"\\nFinal list of dicts:\")\n",
    "print(data)"
   ]
  },
  {
   "cell_type": "code",
   "execution_count": 21,
   "id": "211fca9a",
   "metadata": {},
   "outputs": [
    {
     "name": "stdout",
     "output_type": "stream",
     "text": [
      "iteration n°0\n",
      "iteration n°1\n",
      "Final list: [{'name': '001', 'japaneseName': 'きょりゅうひめ叫竜の姫', 'romaji': 'Kyoryuu no Hime', 'age': 'Over 60 million years', 'quote': '\"We are the defenders of this planet. Once upon a time, during a long battle, we turned ourselves into an immortal weapon. Except fighting, all was lost, so we went to sleep at the bottom of death, our bond was to prepare for the returning invader.\"—001 about the war with VIRM ', 'description': 'The Klaxo Sapien princess, the last of her kind, who has lived for millennia. She leads the war against humanity and the VIRM.', 'asciiArtFile': ['.....................................:*.....................', '.....................................*+.....................', '.....................................*;.....................', '...................................,?*?*....................', '..................................:??+?%*...................', '.................................:;*;;;**;+.................', '.................................??SS?%S%%?.................', '................................:S?*?%?**S?.................', '................................*S?:+*+:+S%;................', '................................?S%?+;;*?SS+................', '................................%S??:,,*?%S?................', '...............................*SS*+,:,:+%S%:...............', '...............................?SS+::;:,:?SS*...............', '..............................;%SS;;***+:*SS%;..............', '..............................?SS%+;***+;*SSS*..............', '..............................%SS%+++**++*SSS?+.............', '.............................*SSS?+;+*+;;*SSSS*.............', '.............................%SSS*:+;::+;+%SSS*,,,..........', '............................+SSSS++::;::;+%SSS%:.,,,........', '............................?SSSS+*;,,,:*+%SSSS+..:,,,......', '............................%SSSS+:,,:,,:;%SSSS?,,:.,.......', '...........................*SSSS%:,,,?:,,,?SSSS%:....,:.....', '...........................?SSSS%+,,:?;,,:?SSSS%*....::.....', '...........................?SSSS%;,,:?;,,,?SSSSS?,...,......', '..........................,?%SSS%*,,;%*,,:?SSSSS%+......:,..', '..........................;%SSSS%*,,;%*,,:?SSSSS??,,,,,::...', '..........................+%SSSS%?,,+%?,,:?SSSSS??*.,,;:....', '..........................*?%SSS%?:,+%%:,:?SSSSS%?*.,,......', '..........................??SSSS%?,,+%%+,,?SSSSS%??.,:...,,.', '..........................??%SSS%*,,+%%*,,+SSSSS%??..,...,..', '......,,,,,,,,,,..........??%SSS%+,,+??*,,+SSSSS%?%,,.......', '....,,,,,,,,,,,,,,,,,,,,..*?%SSS%+,,*??*,,*SSSSS%?+.,....,,.', '.,,,,,...........,,,,,,,,,;%*SSS%?::???+::?SSSSS?*;......,..', '.,,,,..................,,,:?:%SS?;:::::,::+SSSSS+*::,.......', '...,......................,:,;S#%,;;..,:;,*#SSS%,;,,,.......', '..............................,+*,;+,..,+,;*+;:,............', '..................................+*;..,*;..................', '.................................:++;..+++:.................', '..................................,,:...,...................'], 'height': '', 'weight': '', 'moreInfo': 'https://darling-in-the-franxx.fandom.com/wiki/001'}, {'japaneseName': '', 'romaji': '', 'age': '', 'quote': '', 'description': '', 'asciiArtFile': '', 'height': '', 'weight': '', 'moreInfo': ''}]\n"
     ]
    }
   ],
   "source": [
    "# Get the referenced content\n",
    "for index, item in enumerate(data):\n",
    "    print(f\"iteration n°{index}\")\n",
    "    if document_key in item and len(item[document_key]) > 0:\n",
    "        if get_valid_file_path(item[document_key]):\n",
    "            try:\n",
    "                with open(item[document_key], \"r\", encoding=\"utf-8\", newline=\"\\n\") as f:\n",
    "                    item[document_key] = f.read().split(\"\\n\")\n",
    "            except Exception as e:\n",
    "                print(f\"Error reading file ({item[document_key]}): {e}\")\n",
    "print(f\"Final list: {data}\")"
   ]
  },
  {
   "cell_type": "code",
   "execution_count": null,
   "id": "ee662dca",
   "metadata": {},
   "outputs": [
    {
     "name": "stdout",
     "output_type": "stream",
     "text": [
      "json content: [{\"age\":\"Over 60 million years\",\"asciiArtFile\":[\".....................................:*.....................\",\".....................................*+.....................\",\".....................................*;.....................\",\"...................................,?*?*....................\",\"..................................:??+?%*...................\",\".................................:;*;;;**;+.................\",\".................................??SS?%S%%?.................\",\"................................:S?*?%?**S?.................\",\"................................*S?:+*+:+S%;................\",\"................................?S%?+;;*?SS+................\",\"................................%S??:,,*?%S?................\",\"...............................*SS*+,:,:+%S%:...............\",\"...............................?SS+::;:,:?SS*...............\",\"..............................;%SS;;***+:*SS%;..............\",\"..............................?SS%+;***+;*SSS*..............\",\"..............................%SS%+++**++*SSS?+.............\",\".............................*SSS?+;+*+;;*SSSS*.............\",\".............................%SSS*:+;::+;+%SSS*,,,..........\",\"............................+SSSS++::;::;+%SSS%:.,,,........\",\"............................?SSSS+*;,,,:*+%SSSS+..:,,,......\",\"............................%SSSS+:,,:,,:;%SSSS?,,:.,.......\",\"...........................*SSSS%:,,,?:,,,?SSSS%:....,:.....\",\"...........................?SSSS%+,,:?;,,:?SSSS%*....::.....\",\"...........................?SSSS%;,,:?;,,,?SSSSS?,...,......\",\"..........................,?%SSS%*,,;%*,,:?SSSSS%+......:,..\",\"..........................;%SSSS%*,,;%*,,:?SSSSS??,,,,,::...\",\"..........................+%SSSS%?,,+%?,,:?SSSSS??*.,,;:....\",\"..........................*?%SSS%?:,+%%:,:?SSSSS%?*.,,......\",\"..........................??SSSS%?,,+%%+,,?SSSSS%??.,:...,,.\",\"..........................??%SSS%*,,+%%*,,+SSSSS%??..,...,..\",\"......,,,,,,,,,,..........??%SSS%+,,+??*,,+SSSSS%?%,,.......\",\"....,,,,,,,,,,,,,,,,,,,,..*?%SSS%+,,*??*,,*SSSSS%?+.,....,,.\",\".,,,,,...........,,,,,,,,,;%*SSS%?::???+::?SSSSS?*;......,..\",\".,,,,..................,,,:?:%SS?;:::::,::+SSSSS+*::,.......\",\"...,......................,:,;S#%,;;..,:;,*#SSS%,;,,,.......\",\"..............................,+*,;+,..,+,;*+;:,............\",\"..................................+*;..,*;..................\",\".................................:++;..+++:.................\",\"..................................,,:...,...................\"],\"description\":\"The Klaxo Sapien princess, the last of her kind, who has lived for millennia. She leads the war against humanity and the VIRM.\",\"height\":\"\",\"japaneseName\":\"\\u304d\\u3087\\u308a\\u3085\\u3046\\u3072\\u3081\\u53eb\\u7adc\\u306e\\u59eb\",\"moreInfo\":\"https://darling-in-the-franxx.fandom.com/wiki/001\",\"name\":\"001\",\"quote\":\"\\\"We are the defenders of this planet. Once upon a time, during a long battle, we turned ourselves into an immortal weapon. Except fighting, all was lost, so we went to sleep at the bottom of death, our bond was to prepare for the returning invader.\\\"\\u2014001 about the war with VIRM \",\"romaji\":\"Kyoryuu no Hime\",\"weight\":\"\"},{\"age\":\"\",\"asciiArtFile\":\"\",\"description\":\"\",\"height\":\"\",\"japaneseName\":\"\",\"moreInfo\":\"\",\"quote\":\"\",\"romaji\":\"\",\"weight\":\"\"}]\n"
     ]
    }
   ],
   "source": [
    "# Jsonify the content\n",
    "# if isinstance(data, List): # Use this piece of code if you wish to enforce a dictionnary, but it is not required for lists.\n",
    "#     final_list = {\"list\":data}\n",
    "if isinstance(data, (str, int, float)):\n",
    "    final_list = {str(type(data)): data}\n",
    "else:\n",
    "    final_list=data\n",
    "json_content: str = json.dumps(final_list, skipkeys=False, ensure_ascii=True,check_circular=True, indent=None, separators=(\",\", \":\"), sort_keys=True)\n",
    "print(f\"json content: {json_content}\")"
   ]
  },
  {
   "cell_type": "code",
   "execution_count": 23,
   "id": "9537e11b",
   "metadata": {},
   "outputs": [
    {
     "name": "stdout",
     "output_type": "stream",
     "text": [
      "write successfull.\n"
     ]
    }
   ],
   "source": [
    "# dump the content to a file\n",
    "file_name: str = input(\"Please enter the name of the file (no extension): \")\n",
    "with open(f\"{file_name}.min.json\", \"w\", encoding=\"utf-8\", newline=\"\\n\") as f:\n",
    "    f.write(json_content)\n",
    "print(\"write successfull.\")"
   ]
  }
 ],
 "metadata": {
  "kernelspec": {
   "display_name": ".venv",
   "language": "python",
   "name": "python3"
  },
  "language_info": {
   "codemirror_mode": {
    "name": "ipython",
    "version": 3
   },
   "file_extension": ".py",
   "mimetype": "text/x-python",
   "name": "python",
   "nbconvert_exporter": "python",
   "pygments_lexer": "ipython3",
   "version": "3.12.3"
  }
 },
 "nbformat": 4,
 "nbformat_minor": 5
}
